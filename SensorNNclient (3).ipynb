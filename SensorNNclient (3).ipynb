{
 "cells": [
  {
   "cell_type": "markdown",
   "metadata": {},
   "source": [
    "# Real-Time Intelligent Systems Final Project Client\n",
    "## March 18, 2021\n",
    "#### Glory Scheel\n",
    "#### Arnav Tayal"
   ]
  },
  {
   "cell_type": "markdown",
   "metadata": {},
   "source": [
    "## Import packages"
   ]
  },
  {
   "cell_type": "code",
   "execution_count": 14,
   "metadata": {},
   "outputs": [],
   "source": [
    "import pandas as pd \n",
    "import numpy as np \n",
    "from matplotlib import pyplot as plt\n",
    "from sklearn import model_selection, preprocessing, feature_selection, ensemble, linear_model, metrics, decomposition\n",
    "from sklearn.preprocessing import MinMaxScaler, normalize, StandardScaler\n",
    "from keras.models import Sequential\n",
    "from keras.layers import Dense, Flatten\n",
    "import socket \n",
    "import sys \n",
    "import pandas as pd \n",
    "import numpy as np \n",
    "import json"
   ]
  },
  {
   "cell_type": "markdown",
   "metadata": {},
   "source": [
    "## Create function that connects to host and port and pulls training data into a list"
   ]
  },
  {
   "cell_type": "code",
   "execution_count": 41,
   "metadata": {},
   "outputs": [],
   "source": [
    "def get_training_data(): \n",
    "    HOST = '127.0.0.1'  # The server's hostname or IP address\n",
    "    PORT = 9998        # The port used by the server\n",
    "    \n",
    "    s = socket.socket(socket.AF_INET, socket.SOCK_STREAM)\n",
    "    s.connect((HOST, PORT))\n",
    "    n = 0 \n",
    "    data = []\n",
    "    max_rows = 8143\n",
    "    \n",
    "    while True: \n",
    "        rec_data = s.recv(1024)\n",
    "        row = json.loads(rec_data)\n",
    "        \n",
    "        print (\"Number of datapoints: {}\".format(n))\n",
    "        \n",
    "        if (rec_data == None or n == max_rows): \n",
    "            print (\"Data Retreival Complete!\")\n",
    "            return data\n",
    "        \n",
    "        data.append(row)\n",
    "        n += 1"
   ]
  },
  {
   "cell_type": "markdown",
   "metadata": {},
   "source": [
    "## Create function that converts data types as necessary and drops unused variables"
   ]
  },
  {
   "cell_type": "code",
   "execution_count": 42,
   "metadata": {},
   "outputs": [],
   "source": [
    "def process_data(data_list): \n",
    "    df = pd.DataFrame(data_list)\n",
    "    cols = df.columns\n",
    "    \n",
    "    for col in cols: \n",
    "        if col == \"date\": \n",
    "            df[col] = df[col].apply(pd.to_datetime)\n",
    "        elif col == 'Occupancy': \n",
    "            df[col] = df[col].apply(lambda x: str(x))\n",
    "        else:\n",
    "            df[col] = df[col].apply(pd.to_numeric)\n",
    "    \n",
    "    df.drop(columns = ['Humidity', 'number', 'date'], inplace = True)\n",
    "    return df"
   ]
  },
  {
   "cell_type": "markdown",
   "metadata": {},
   "source": [
    "## Create function that first collects training data then processes it using previous functions created"
   ]
  },
  {
   "cell_type": "code",
   "execution_count": 43,
   "metadata": {},
   "outputs": [],
   "source": [
    "def train_and_collect(): \n",
    "    data = get_training_data()\n",
    "    df = process_data(data)\n",
    "    return (df)\n"
   ]
  },
  {
   "cell_type": "markdown",
   "metadata": {},
   "source": [
    "## Run train_and_collect function to collect and preprocess dataset then train on neural network"
   ]
  },
  {
   "cell_type": "code",
   "execution_count": 77,
   "metadata": {
    "scrolled": true
   },
   "outputs": [
    {
     "name": "stdout",
     "output_type": "stream",
     "text": [
      "Epoch 1/10\n",
      "8143/8143 [==============================] - 1s 174us/step - loss: 0.4897 - accuracy: 0.8267\n",
      "Epoch 2/10\n",
      "8143/8143 [==============================] - 1s 67us/step - loss: 0.2661 - accuracy: 0.9476\n",
      "Epoch 3/10\n",
      "8143/8143 [==============================] - 0s 56us/step - loss: 0.1581 - accuracy: 0.9718\n",
      "Epoch 4/10\n",
      "8143/8143 [==============================] - 0s 59us/step - loss: 0.1086 - accuracy: 0.9844\n",
      "Epoch 5/10\n",
      "8143/8143 [==============================] - 1s 70us/step - loss: 0.0842 - accuracy: 0.9864\n",
      "Epoch 6/10\n",
      "8143/8143 [==============================] - 1s 71us/step - loss: 0.0710 - accuracy: 0.9875\n",
      "Epoch 7/10\n",
      "8143/8143 [==============================] - 0s 58us/step - loss: 0.0634 - accuracy: 0.9877\n",
      "Epoch 8/10\n",
      "8143/8143 [==============================] - 0s 56us/step - loss: 0.0589 - accuracy: 0.9883\n",
      "Epoch 9/10\n",
      "8143/8143 [==============================] - 0s 61us/step - loss: 0.0559 - accuracy: 0.9886\n",
      "Epoch 10/10\n",
      "8143/8143 [==============================] - 1s 62us/step - loss: 0.0538 - accuracy: 0.9889\n"
     ]
    },
    {
     "data": {
      "text/plain": [
       "<keras.callbacks.callbacks.History at 0x1af2b8a2a58>"
      ]
     },
     "execution_count": 77,
     "metadata": {},
     "output_type": "execute_result"
    }
   ],
   "source": [
    "df=train_and_collect()\n",
    "\n",
    "df.drop(columns = ['Humidity', 'number', 'date'], inplace = True)\n",
    "scaler=StandardScaler()\n",
    "x=df.drop(columns='Occupancy')\n",
    "y=df[['Occupancy']]\n",
    "x_train=scaler.fit_transform(x)\n",
    "\n",
    "X=np.array(x_train)\n",
    "Y=np.array(y)\n",
    "\n",
    "X=np.reshape(X, (X.shape[0], 1, X.shape[1]))\n",
    "NNmodel=Sequential()\n",
    "NNmodel.add(Dense(10, activation='relu'))\n",
    "NNmodel.add(Flatten())\n",
    "NNmodel.add(Dense(1,activation='sigmoid'))\n",
    "NNmodel.compile(loss='binary_crossentropy', optimizer='adam',metrics=[\"accuracy\"])\n",
    "\n",
    "NNmodel.fit(X, Y, batch_size=64, epochs=10)"
   ]
  },
  {
   "cell_type": "markdown",
   "metadata": {},
   "source": [
    "## Create functions that:\n",
    "   - Converts strings to json \n",
    "   - Pulls data from testing port, pre-processes data and then uses neural network to make predictions on streaming in data"
   ]
  },
  {
   "cell_type": "code",
   "execution_count": 82,
   "metadata": {},
   "outputs": [
    {
     "name": "stdout",
     "output_type": "stream",
     "text": [
      "Row to predict on: [{'Temperature': '23.7', 'Light': '585.2', 'CO2': '749.2', 'HumidityRatio': '0.00476416302416414'}]\n",
      "Prediction: [[1.]]\n",
      "Row to predict on: [{'Temperature': '23.718', 'Light': '578.4', 'CO2': '760.4', 'HumidityRatio': '0.00477266099212519'}]\n",
      "Prediction: [[1.]]\n",
      "Row to predict on: [{'Temperature': '23.73', 'Light': '572.666666666667', 'CO2': '769.666666666667', 'HumidityRatio': '0.00476515255246541'}]\n",
      "Prediction: [[1.]]\n",
      "Row to predict on: [{'Temperature': '23.7225', 'Light': '493.75', 'CO2': '774.75', 'HumidityRatio': '0.00474377335599685'}]\n",
      "Prediction: [[1.]]\n",
      "Row to predict on: [{'Temperature': '23.754', 'Light': '488.6', 'CO2': '779', 'HumidityRatio': '0.00476659399998615'}]\n",
      "Prediction: [[1.]]\n",
      "Row to predict on: [{'Temperature': '23.76', 'Light': '568.666666666667', 'CO2': '790', 'HumidityRatio': '0.00477933243163454'}]\n",
      "Prediction: [[1.]]\n",
      "Row to predict on: [{'Temperature': '23.73', 'Light': '536.333333333333', 'CO2': '798', 'HumidityRatio': '0.00477613633274892'}]\n",
      "Prediction: [[1.]]\n",
      "Row to predict on: [{'Temperature': '23.754', 'Light': '509', 'CO2': '797', 'HumidityRatio': '0.00478309370839038'}]\n",
      "Prediction: [[1.]]\n",
      "Row to predict on: [{'Temperature': '23.754', 'Light': '476', 'CO2': '803.2', 'HumidityRatio': '0.00479409399662041'}]\n",
      "Prediction: [[1.]]\n",
      "Row to predict on: [{'Temperature': '23.736', 'Light': '510', 'CO2': '809', 'HumidityRatio': '0.00479618871038935'}]\n",
      "Prediction: [[1.]]\n",
      "Row to predict on: [{'Temperature': '23.745', 'Light': '481.5', 'CO2': '815.25', 'HumidityRatio': '0.00480888622067716'}]\n",
      "Prediction: [[1.]]\n",
      "Row to predict on: [{'Temperature': '23.7', 'Light': '481.8', 'CO2': '824', 'HumidityRatio': '0.0048167933677358'}]\n",
      "Prediction: [[1.]]\n",
      "Row to predict on: [{'Temperature': '23.7', 'Light': '475.25', 'CO2': '832', 'HumidityRatio': '0.00482410383674874'}]\n",
      "Prediction: [[1.]]\n",
      "Row to predict on: [{'Temperature': '23.7', 'Light': '469', 'CO2': '845.333333333333', 'HumidityRatio': '0.00484238075533563'}]\n",
      "Prediction: [[1.]]\n",
      "Row to predict on: [{'Temperature': '23.7', 'Light': '464', 'CO2': '852.4', 'HumidityRatio': '0.00485590636128976'}]\n",
      "Prediction: [[1.]]\n",
      "Row to predict on: [{'Temperature': '23.7', 'Light': '464', 'CO2': '861', 'HumidityRatio': '0.00487710983719076'}]\n",
      "Prediction: [[1.]]\n",
      "Row to predict on: [{'Temperature': '23.7', 'Light': '455', 'CO2': '880', 'HumidityRatio': '0.004892190768364'}]\n",
      "Prediction: [[1.]]\n",
      "Row to predict on: [{'Temperature': '23.6', 'Light': '454', 'CO2': '891', 'HumidityRatio': '0.00484759441396992'}]\n",
      "Prediction: [[1.]]\n",
      "Row to predict on: [{'Temperature': '23.64', 'Light': '458', 'CO2': '897.6', 'HumidityRatio': '0.0048750447811301'}]\n",
      "Prediction: [[1.]]\n",
      "Row to predict on: [{'Temperature': '23.65', 'Light': '464', 'CO2': '900.5', 'HumidityRatio': '0.00489149158929623'}]\n",
      "Prediction: [[1.]]\n",
      "Row to predict on: [{'Temperature': '23.64', 'Light': '473', 'CO2': '908.8', 'HumidityRatio': '0.00489763024345823'}]\n",
      "Prediction: [[1.]]\n",
      "Row to predict on: [{'Temperature': '23.6', 'Light': '464', 'CO2': '918', 'HumidityRatio': '0.00489665184522539'}]\n",
      "Prediction: [[1.]]\n",
      "Row to predict on: [{'Temperature': '23.6', 'Light': '498.4', 'CO2': '925.2', 'HumidityRatio': '0.00491046198855591'}]\n",
      "Prediction: [[1.]]\n",
      "Row to predict on: [{'Temperature': '23.6', 'Light': '530.2', 'CO2': '929.4', 'HumidityRatio': '0.0049202748285747'}]\n",
      "Prediction: [[1.]]\n",
      "Row to predict on: [{'Temperature': '23.6', 'Light': '533.6', 'CO2': '936.4', 'HumidityRatio': '0.00492754379701558'}]\n",
      "Prediction: [[1.]]\n",
      "Row to predict on: [{'Temperature': '23.6', 'Light': '524.25', 'CO2': '950', 'HumidityRatio': '0.0049293610654639'}]\n",
      "Prediction: [[1.]]\n",
      "Row to predict on: [{'Temperature': '23.625', 'Light': '498.666666666667', 'CO2': '961', 'HumidityRatio': '0.00494640574744149'}]\n",
      "Prediction: [[1.]]\n",
      "Row to predict on: [{'Temperature': '23.6', 'Light': '516.333333333333', 'CO2': '963', 'HumidityRatio': '0.00493844756573873'}]\n",
      "Prediction: [[1.]]\n",
      "Row to predict on: [{'Temperature': '23.6', 'Light': '501.2', 'CO2': '958.6', 'HumidityRatio': '0.00494244570930318'}]\n",
      "Prediction: [[1.]]\n",
      "Row to predict on: [{'Temperature': '23.6', 'Light': '522', 'CO2': '965.333333333333', 'HumidityRatio': '0.00495843879351724'}]\n",
      "Prediction: [[1.]]\n",
      "Row to predict on: [{'Temperature': '23.6', 'Light': '520.5', 'CO2': '979.25', 'HumidityRatio': '0.00496298243218165'}]\n",
      "Prediction: [[1.]]\n",
      "Row to predict on: [{'Temperature': '23.6', 'Light': '505.285714285714', 'CO2': '978.428571428571', 'HumidityRatio': '0.00497661374332263'}]\n",
      "Prediction: [[1.]]\n",
      "Row to predict on: [{'Temperature': '23.6', 'Light': '488.333333333333', 'CO2': '983', 'HumidityRatio': '0.00497661374332263'}]\n",
      "Prediction: [[1.]]\n",
      "Row to predict on: [{'Temperature': '23.6', 'Light': '512', 'CO2': '992.6', 'HumidityRatio': '0.00496570864699156'}]\n",
      "Prediction: [[1.]]\n",
      "Row to predict on: [{'Temperature': '23.6', 'Light': '511', 'CO2': '997.2', 'HumidityRatio': '0.00497661374332263'}]\n",
      "Prediction: [[1.]]\n",
      "Row to predict on: [{'Temperature': '23.6166666666667', 'Light': '501.5', 'CO2': '999.5', 'HumidityRatio': '0.00498771842139186'}]\n",
      "Prediction: [[1.]]\n",
      "Row to predict on: [{'Temperature': '23.6666666666667', 'Light': '503.666666666667', 'CO2': '1001', 'HumidityRatio': '0.00501505086095386'}]\n",
      "Prediction: [[1.]]\n",
      "Row to predict on: [{'Temperature': '23.6', 'Light': '483.166666666667', 'CO2': '1009.5', 'HumidityRatio': '0.00499478974690881'}]\n",
      "Prediction: [[1.]]\n",
      "Row to predict on: [{'Temperature': '23.6', 'Light': '483.5', 'CO2': '1019', 'HumidityRatio': '0.00499887949294923'}]\n",
      "Prediction: [[1.]]\n",
      "Row to predict on: [{'Temperature': '23.6', 'Light': '473', 'CO2': '1021', 'HumidityRatio': '0.00501114905119468'}]\n",
      "Prediction: [[1.]]\n",
      "Row to predict on: [{'Temperature': '23.6', 'Light': '470.333333333333', 'CO2': '1024.66666666667', 'HumidityRatio': '0.00502326760476436'}]\n",
      "Prediction: [[1.]]\n",
      "Row to predict on: [{'Temperature': '23.6', 'Light': '480.142857142857', 'CO2': '1030.42857142857', 'HumidityRatio': '0.00501374584466786'}]\n",
      "Prediction: [[1.]]\n",
      "Row to predict on: [{'Temperature': '23.575', 'Light': '464', 'CO2': '1026.25', 'HumidityRatio': '0.00500354474845336'}]\n",
      "Prediction: [[1.]]\n",
      "Row to predict on: [{'Temperature': '23.54', 'Light': '474.4', 'CO2': '1028', 'HumidityRatio': '0.00499653801060323'}]\n",
      "Prediction: [[1.]]\n",
      "Row to predict on: [{'Temperature': '23.6', 'Light': '470', 'CO2': '1034.8', 'HumidityRatio': '0.00504532457442066'}]\n",
      "Prediction: [[1.]]\n",
      "Row to predict on: [{'Temperature': '23.525', 'Light': '454', 'CO2': '1055.5', 'HumidityRatio': '0.00502636675819462'}]\n",
      "Prediction: [[1.]]\n",
      "Row to predict on: [{'Temperature': '23.5', 'Light': '454', 'CO2': '1055.25', 'HumidityRatio': '0.0050147597241768'}]\n",
      "Prediction: [[1.]]\n",
      "Row to predict on: [{'Temperature': '23.5', 'Light': '454', 'CO2': '1050', 'HumidityRatio': '0.00501873480786954'}]\n",
      "Prediction: [[1.]]\n",
      "Row to predict on: [{'Temperature': '23.5', 'Light': '454', 'CO2': '1051.25', 'HumidityRatio': '0.00501873480786954'}]\n",
      "Prediction: [[1.]]\n",
      "Row to predict on: [{'Temperature': '23.5', 'Light': '445', 'CO2': '1053.6', 'HumidityRatio': '0.00501873480786954'}]\n",
      "Prediction: [[1.]]\n",
      "Row to predict on: [{'Temperature': '23.5', 'Light': '439', 'CO2': '1055.5', 'HumidityRatio': '0.00501873480786954'}]\n",
      "Prediction: [[1.]]\n",
      "Row to predict on: [{'Temperature': '23.5', 'Light': '444.25', 'CO2': '1055', 'HumidityRatio': '0.00502325200960961'}]\n",
      "Prediction: [[1.]]\n",
      "Row to predict on: [{'Temperature': '23.445', 'Light': '454.75', 'CO2': '1059.5', 'HumidityRatio': '0.00502449114747957'}]\n",
      "Prediction: [[1.]]\n",
      "Row to predict on: [{'Temperature': '23.39', 'Light': '455.8', 'CO2': '1060', 'HumidityRatio': '0.00501758227438523'}]\n",
      "Prediction: [[1.]]\n",
      "Row to predict on: [{'Temperature': '23.39', 'Light': '451.6', 'CO2': '1073.6', 'HumidityRatio': '0.00502117211635073'}]\n",
      "Prediction: [[1.]]\n",
      "Row to predict on: [{'Temperature': '23.39', 'Light': '451.6', 'CO2': '1078.6', 'HumidityRatio': '0.00502117211635073'}]\n",
      "Prediction: [[1.]]\n",
      "Row to predict on: [{'Temperature': '23.39', 'Light': '454.75', 'CO2': '1081', 'HumidityRatio': '0.00502117211635073'}]\n",
      "Prediction: [[1.]]\n",
      "Row to predict on: [{'Temperature': '23.39', 'Light': '454.75', 'CO2': '1082', 'HumidityRatio': '0.00502521073769626'}]\n",
      "Prediction: [[1.]]\n",
      "Row to predict on: [{'Temperature': '23.39', 'Light': '457.5', 'CO2': '1088.83333333333', 'HumidityRatio': '0.00505228580200481'}]\n",
      "Prediction: [[1.]]\n",
      "Row to predict on: [{'Temperature': '23.37', 'Light': '464', 'CO2': '1090.6', 'HumidityRatio': '0.00504912954232637'}]\n",
      "Prediction: [[1.]]\n",
      "Row to predict on: [{'Temperature': '23.39', 'Light': '464', 'CO2': '1086', 'HumidityRatio': '0.00504331038348948'}]\n",
      "Prediction: [[1.]]\n",
      "Row to predict on: [{'Temperature': '23.3733333333333', 'Light': '464', 'CO2': '1092.5', 'HumidityRatio': '0.00506001703431877'}]\n",
      "Prediction: [[1.]]\n",
      "Row to predict on: [{'Temperature': '23.39', 'Light': '471.5', 'CO2': '1103.75', 'HumidityRatio': '0.00507502467892817'}]\n",
      "Prediction: [[1.]]\n",
      "Row to predict on: [{'Temperature': '23.3233333333333', 'Light': '475.666666666667', 'CO2': '1104.5', 'HumidityRatio': '0.0050544759894773'}]\n",
      "Prediction: [[1.]]\n",
      "Row to predict on: [{'Temperature': '23.365', 'Light': '471.5', 'CO2': '1103.5', 'HumidityRatio': '0.00506731029811295'}]\n",
      "Prediction: [[1.]]\n",
      "Row to predict on: [{'Temperature': '23.29', 'Light': '467.75', 'CO2': '1112', 'HumidityRatio': '0.00504422920396206'}]\n",
      "Prediction: [[1.]]\n",
      "Row to predict on: [{'Temperature': '23.3066666666667', 'Light': '466.5', 'CO2': '1105.66666666667', 'HumidityRatio': '0.00505530397430099'}]\n",
      "Prediction: [[1.]]\n",
      "Row to predict on: [{'Temperature': '23.29', 'Light': '464', 'CO2': '1104', 'HumidityRatio': '0.00507991640233217'}]\n",
      "Prediction: [[1.]]\n",
      "Row to predict on: [{'Temperature': '23.29', 'Light': '467', 'CO2': '1117.2', 'HumidityRatio': '0.00507991640233217'}]\n",
      "Prediction: [[1.]]\n",
      "Row to predict on: [{'Temperature': '23.29', 'Light': '467.75', 'CO2': '1121.25', 'HumidityRatio': '0.00507545528038826'}]\n",
      "Prediction: [[1.]]\n",
      "Row to predict on: [{'Temperature': '23.29', 'Light': '466.5', 'CO2': '1115.66666666667', 'HumidityRatio': '0.00506504624269139'}]\n",
      "Prediction: [[1.]]\n",
      "Row to predict on: [{'Temperature': '23.29', 'Light': '459', 'CO2': '1120', 'HumidityRatio': '0.00507277863768927'}]\n",
      "Prediction: [[1.]]\n",
      "Row to predict on: [{'Temperature': '23.29', 'Light': '464', 'CO2': '1123.75', 'HumidityRatio': '0.0050531506227436'}]\n",
      "Prediction: [[1.]]\n",
      "Row to predict on: [{'Temperature': '23.29', 'Light': '470', 'CO2': '1116', 'HumidityRatio': '0.00506207229539191'}]\n",
      "Prediction: [[1.]]\n",
      "Row to predict on: [{'Temperature': '23.272', 'Light': '464', 'CO2': '1126.8', 'HumidityRatio': '0.00505652695304372'}]\n",
      "Prediction: [[1.]]\n"
     ]
    },
    {
     "ename": "KeyboardInterrupt",
     "evalue": "",
     "output_type": "error",
     "traceback": [
      "\u001b[1;31m---------------------------------------------------------------------------\u001b[0m",
      "\u001b[1;31mKeyboardInterrupt\u001b[0m                         Traceback (most recent call last)",
      "\u001b[1;32m<ipython-input-82-6d069298e5e2>\u001b[0m in \u001b[0;36m<module>\u001b[1;34m\u001b[0m\n\u001b[0;32m     42\u001b[0m \u001b[1;33m\u001b[0m\u001b[0m\n\u001b[0;32m     43\u001b[0m \u001b[1;33m\u001b[0m\u001b[0m\n\u001b[1;32m---> 44\u001b[1;33m \u001b[0mtest_model\u001b[0m\u001b[1;33m(\u001b[0m\u001b[1;33m)\u001b[0m\u001b[1;33m\u001b[0m\u001b[1;33m\u001b[0m\u001b[0m\n\u001b[0m",
      "\u001b[1;32m<ipython-input-82-6d069298e5e2>\u001b[0m in \u001b[0;36mtest_model\u001b[1;34m()\u001b[0m\n\u001b[0;32m     12\u001b[0m     \u001b[0ms\u001b[0m\u001b[1;33m.\u001b[0m\u001b[0mconnect\u001b[0m\u001b[1;33m(\u001b[0m\u001b[1;33m(\u001b[0m\u001b[0mHOST\u001b[0m\u001b[1;33m,\u001b[0m \u001b[0mPORT\u001b[0m\u001b[1;33m)\u001b[0m\u001b[1;33m)\u001b[0m\u001b[1;33m\u001b[0m\u001b[1;33m\u001b[0m\u001b[0m\n\u001b[0;32m     13\u001b[0m     \u001b[1;32mwhile\u001b[0m \u001b[1;32mTrue\u001b[0m\u001b[1;33m:\u001b[0m\u001b[1;33m\u001b[0m\u001b[1;33m\u001b[0m\u001b[0m\n\u001b[1;32m---> 14\u001b[1;33m         \u001b[0mdata\u001b[0m \u001b[1;33m=\u001b[0m \u001b[0ms\u001b[0m\u001b[1;33m.\u001b[0m\u001b[0mrecv\u001b[0m\u001b[1;33m(\u001b[0m\u001b[1;36m1024\u001b[0m\u001b[1;33m)\u001b[0m\u001b[1;33m\u001b[0m\u001b[1;33m\u001b[0m\u001b[0m\n\u001b[0m\u001b[0;32m     15\u001b[0m         \u001b[1;31m#print(data)\u001b[0m\u001b[1;33m\u001b[0m\u001b[1;33m\u001b[0m\u001b[1;33m\u001b[0m\u001b[0m\n\u001b[0;32m     16\u001b[0m         \u001b[0mrow\u001b[0m \u001b[1;33m=\u001b[0m \u001b[0mjson\u001b[0m\u001b[1;33m.\u001b[0m\u001b[0mloads\u001b[0m\u001b[1;33m(\u001b[0m\u001b[0mdata\u001b[0m\u001b[1;33m)\u001b[0m\u001b[1;33m\u001b[0m\u001b[1;33m\u001b[0m\u001b[0m\n",
      "\u001b[1;31mKeyboardInterrupt\u001b[0m: "
     ]
    }
   ],
   "source": [
    "import pandas as pd\n",
    "def convertStringToJSON(st):\n",
    "    return json.dumps(st)\n",
    "\n",
    "\n",
    "# Function to connect to testing server, get test row, make prediction, and send result back.\n",
    "def test_model(): \n",
    "    HOST = '127.0.0.1'  # The server's hostname or IP address\n",
    "    PORT = 9999        # The port used by the server\n",
    "    \n",
    "    s = socket.socket(socket.AF_INET, socket.SOCK_STREAM)\n",
    "    s.connect((HOST, PORT))\n",
    "    while True: \n",
    "        data = s.recv(1024)\n",
    "        #print(data)\n",
    "        row = json.loads(data)\n",
    "\n",
    "        del row['Occupancy']\n",
    "        del row['Humidity']\n",
    "        del row['Number']\n",
    "        del row['date']\n",
    "\n",
    "\n",
    "        row_list = []\n",
    "        \n",
    "        row_list.append(row)\n",
    "\n",
    "        df=pd.DataFrame(row_list)\n",
    "        x_test=scaler.transform(df)\n",
    "        Xtest=np.array(x_test)\n",
    "        \n",
    "        Xtest=np.reshape(Xtest, (Xtest.shape[0],1,Xtest.shape[1]))\n",
    "        \n",
    "        prediction = NNmodel.predict(Xtest).round()\n",
    "        send_str = convertStringToJSON({\"Occupancy\": int(prediction)}).encode(\"utf-8\")\n",
    "        s.send(send_str)\n",
    "        \n",
    "        print (\"Row to predict on: {}\".format(row_list))\n",
    "        print (\"Prediction: {}\".format(str(prediction)))\n",
    "        \n",
    "\n",
    "\n",
    "\n",
    "test_model()"
   ]
  },
  {
   "cell_type": "code",
   "execution_count": null,
   "metadata": {},
   "outputs": [],
   "source": []
  }
 ],
 "metadata": {
  "kernelspec": {
   "display_name": "Python 3",
   "language": "python",
   "name": "python3"
  },
  "language_info": {
   "codemirror_mode": {
    "name": "ipython",
    "version": 3
   },
   "file_extension": ".py",
   "mimetype": "text/x-python",
   "name": "python",
   "nbconvert_exporter": "python",
   "pygments_lexer": "ipython3",
   "version": "3.7.1"
  }
 },
 "nbformat": 4,
 "nbformat_minor": 4
}
